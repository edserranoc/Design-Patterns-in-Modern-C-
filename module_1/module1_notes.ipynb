{
 "cells": [
  {
   "cell_type": "markdown",
   "id": "fd417289",
   "metadata": {},
   "source": [
    "<hr>\n",
    "<div style=\"background-color: lightgray; padding: 20px; color: black;\">\n",
    "<div>\n",
    "<img src=\"https://th.bing.com/th/id/R.3cd1c8dc996c5616cf6e65e20b6bf586?rik=09aaLyk4hfbBiQ&riu=http%3a%2f%2fcidics.uanl.mx%2fwp-content%2fuploads%2f2016%2f09%2fcimat.png&ehk=%2b0brgMUkA2BND22ixwLZheQrrOoYLO3o5cMRqsBOrlY%3d&risl=&pid=ImgRaw&r=0\" style=\"float: right; margin-right: 30px;\" width=\"200\"/> \n",
    "<font size=\"5.5\" color=\"8C3061\"><b>Introduction to Patterns - Module 1</b></font> <br>\n",
    "<font size=\"5.5\" color=\"8C3061\"><b>Creational Design Patterns in Modern C++</b></font> \n",
    "</div>\n",
    "<div style=\"text-align: left\">  <br>\n",
    "Edison David Serrano Cárdenas<br>\n",
    "Ezau Faridh Torres Torres <br><br>\n",
    "MSc en Matemáticas Aplicadas; CIMAT - Sede Guanajuato <br>\n",
    "</div>\n",
    "\n",
    "</div>\n",
    "<hr>"
   ]
  },
  {
   "cell_type": "markdown",
   "id": "c750355c",
   "metadata": {},
   "source": [
    "# <font color=\"8C3061\" >**Design Patterns**</font> "
   ]
  },
  {
   "cell_type": "markdown",
   "id": "5fbf4a45",
   "metadata": {},
   "source": [
    "> Design patterns became popular after this book called Elements of Reusable object oriented software was published in 1995.\n",
    ">\n",
    "> The book describes solutions to common object oriented design problems"
   ]
  },
  {
   "cell_type": "markdown",
   "id": "2c447af3",
   "metadata": {},
   "source": [
    "<font color=\"8C3061\" >**What is a pattern?**</font>"
   ]
  },
  {
   "cell_type": "markdown",
   "id": "881c0b0c",
   "metadata": {},
   "source": [
    "> The keyword pattern was coined by a building architect Christopher Alexander. He noticed that buildings were constructed with a common pattern. He realized the reason for these patterns in the buildings is because these solve some common problem.\n",
    "\n",
    "- Language & domain independent strategies for solving\n",
    "common object-oriented design problems.\n",
    "- These problems are recurring and can appear in all kinds of applications, irrespective of their language or platform.\n",
    "- Patterns provide suggestions — different ways to solve these common problems\n",
    "- Developers can use these suggestions as guidelines to\n",
    "create solutions for their problems\n",
    "\n",
    ">The proposed solution can have different implementation alternatives, depending on the programming language, framework or specific platform\n",
    "\n",
    "\n"
   ]
  },
  {
   "cell_type": "markdown",
   "id": "fa99f966",
   "metadata": {},
   "source": [
    "<font color=\"8C3061\" >**Catalogue**</font>"
   ]
  },
  {
   "cell_type": "markdown",
   "id": "6c1d165e",
   "metadata": {},
   "source": [
    "There are two ways through which the patterns have been categorized. \n",
    "\n",
    "- One is the scope. Scope simply means whether the pattern applies to classes or objects.\n",
    "- Then the other categorization is based on the purpose. This reflects what a pattern does. And based on this, a pattern can be a creational pattern, a structural pattern or a behavioral pattern.\n",
    "\n",
    "<center>\n",
    "<img src=\"./images/catalogue.png\" width=\"650\"/> \n",
    "</center>"
   ]
  },
  {
   "cell_type": "markdown",
   "id": "0135bdb0",
   "metadata": {},
   "source": [
    "# <font color=\"8C3061\" >**Overview of the Unified Modeling Language (UML) Class Diagram**</font> "
   ]
  },
  {
   "cell_type": "markdown",
   "id": "817f83ba",
   "metadata": {},
   "source": [
    "🌐 Online Tools: 🔗[draw.io](https://app.diagrams.net/)"
   ]
  },
  {
   "cell_type": "markdown",
   "id": "e60127f6",
   "metadata": {},
   "source": [
    "<font color=\"8C3061\" >**Pattern Structure**</font>"
   ]
  },
  {
   "cell_type": "markdown",
   "id": "9942dc0e",
   "metadata": {},
   "source": [
    "> The original book on design patterns uses OMT\n",
    "> It depicts relationships between classes that make up\n",
    "the pattern\n",
    "\n",
    "* However, it was replaced with UML in 1996, therefore,\n",
    "is no longer used.\n",
    "* It is important to understand class notations to\n",
    "understand the structure of the pattern\n"
   ]
  },
  {
   "cell_type": "markdown",
   "id": "0f1e0189",
   "metadata": {},
   "source": [
    "***Class Diagram:***\n",
    "\n",
    "<center>\n",
    "<img src=\"./images/uml_class.png\" width=\"250\"/> \n",
    "</center>"
   ]
  },
  {
   "cell_type": "markdown",
   "id": "484e3c68",
   "metadata": {},
   "source": [
    "***Class Inheritance:*** \n",
    "\n",
    "This arrow is called as a generalization arrow and it points to the class that is the most general of all the classes. It can represent all the classes. And by all, I mean all the child classes. So savings and current are child classes of account or we can say these are derived classes of account. Note that the arrow is hollow, it is not filled.\n",
    "\n",
    "<center>\n",
    "<img src=\"./images/uml_inheritance.png\" width=\"350\"/> \n",
    "</center>"
   ]
  },
  {
   "cell_type": "markdown",
   "id": "4ae51c26",
   "metadata": {},
   "source": [
    "The name of the abstract classes is shown in italics. So shape is an abstract class and even the method is shown with italic and this indicates draw is an abstract method or a pure virtual function. Therefore, it must be implemented by the child classes."
   ]
  },
  {
   "cell_type": "markdown",
   "id": "6f5f64fb",
   "metadata": {},
   "source": [
    "***Composition:***\n",
    "\n",
    "Composition simply means part of relationship. This symbol is towards the class that acts as a container.\n",
    "\n",
    "This relationship, composition relationship means that when the container is destroyed, all its contents are also destroyed. "
   ]
  },
  {
   "cell_type": "markdown",
   "id": "2913cb1d",
   "metadata": {},
   "source": [
    "<center>\n",
    "<img src=\"./images/uml_composition.png\" width=\"350\"/> \n",
    "</center>"
   ]
  },
  {
   "cell_type": "markdown",
   "id": "91b79874",
   "metadata": {},
   "source": [
    "***Aggregation:***\n",
    "\n",
    "But in some cases when the container is destroyed, its contents may not be destroyed. This relationship is called as aggregation and is depicted through this hollow diamond, the diamond is towards the container. "
   ]
  },
  {
   "cell_type": "markdown",
   "id": "dd7a16c6",
   "metadata": {},
   "source": [
    "<center>\n",
    "<img src=\"./images/uml_aggregation.png\" width=\"350\"/> \n",
    "</center>"
   ]
  },
  {
   "cell_type": "markdown",
   "id": "27ce946f",
   "metadata": {},
   "source": [
    "***Association:***\n",
    "\n",
    "Association is another form of relationship between classes and objects. And it is quite similar to aggregation.\n",
    "\n",
    "It simply represents a semantic connection between the classes. This means a class will use features of another class and it will do so by containing a reference of another class. For example, application uses the database.\n",
    "\n",
    "So application is the container and database is the contained object. This does not imply that application owns the database. It simply uses a feature soft database. The relationship is shown with a line and it is often accompanied by phrases such as uses controls, etc."
   ]
  },
  {
   "cell_type": "markdown",
   "id": "78b6bcdf",
   "metadata": {},
   "source": [
    "<center>\n",
    "<img src=\"./images/uml_association.png\" width=\"350\"/> \n",
    "</center>"
   ]
  },
  {
   "cell_type": "markdown",
   "id": "77dc9c63",
   "metadata": {},
   "source": [
    "So here driver drives the car, it does not mean that driver owns the car object. It simply implies that driver uses the features of car. Note that association is the weaker form of relationship as compared to aggregation we will see and understand in subsequent lectures, how these relationships are implemented in code."
   ]
  },
  {
   "cell_type": "markdown",
   "id": "924e915a",
   "metadata": {},
   "source": []
  }
 ],
 "metadata": {
  "language_info": {
   "name": "python"
  }
 },
 "nbformat": 4,
 "nbformat_minor": 5
}
