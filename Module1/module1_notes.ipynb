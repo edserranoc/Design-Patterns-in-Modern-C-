{
 "cells": [
  {
   "cell_type": "markdown",
   "id": "fd417289",
   "metadata": {},
   "source": [
    "<hr>\n",
    "<div style=\"background-color: lightgray; padding: 20px; color: black;\">\n",
    "<div>\n",
    "<img src=\"https://th.bing.com/th/id/R.3cd1c8dc996c5616cf6e65e20b6bf586?rik=09aaLyk4hfbBiQ&riu=http%3a%2f%2fcidics.uanl.mx%2fwp-content%2fuploads%2f2016%2f09%2fcimat.png&ehk=%2b0brgMUkA2BND22ixwLZheQrrOoYLO3o5cMRqsBOrlY%3d&risl=&pid=ImgRaw&r=0\" style=\"float: right; margin-right: 30px;\" width=\"200\"/> \n",
    "<font size=\"5.5\" color=\"8C3061\"><b>Introduction to Patterns - Module 1</b></font> <br>\n",
    "<font size=\"5.5\" color=\"8C3061\"><b>Creational Design Patterns in Modern C++</b></font> \n",
    "</div>\n",
    "<div style=\"text-align: left\">  <br>\n",
    "Edison David Serrano Cárdenas<br>\n",
    "Ezau Faridh Torres Torres <br><br>\n",
    "MSc en Matemáticas Aplicadas; CIMAT - Sede Guanajuato <br>\n",
    "</div>\n",
    "\n",
    "</div>\n",
    "<hr>"
   ]
  },
  {
   "cell_type": "markdown",
   "id": "c750355c",
   "metadata": {},
   "source": [
    "# <font color=\"8C3061\" >**Design Patterns**</font> "
   ]
  },
  {
   "cell_type": "markdown",
   "id": "5fbf4a45",
   "metadata": {},
   "source": [
    "> Design patterns became popular after this book called Elements of Reusable object oriented software was published in 1995.\n",
    ">\n",
    "> The book describes solutions to common object oriented design problems"
   ]
  },
  {
   "cell_type": "markdown",
   "id": "2c447af3",
   "metadata": {},
   "source": [
    "<font color=\"8C3061\" >**What is a pattern?**</font>"
   ]
  },
  {
   "cell_type": "markdown",
   "id": "881c0b0c",
   "metadata": {},
   "source": [
    "> The keyword pattern was coined by a building architect Christopher Alexander. He noticed that buildings were constructed with a common pattern. He realized the reason for these patterns in the buildings is because these solve some common problem.\n",
    "\n",
    "- Language & domain independent strategies for solving\n",
    "common object-oriented design problems.\n",
    "- These problems are recurring and can appear in all kinds of applications, irrespective of their language or platform.\n",
    "- Patterns provide suggestions — different ways to solve these common problems\n",
    "- Developers can use these suggestions as guidelines to\n",
    "create solutions for their problems\n",
    "\n",
    ">The proposed solution can have different implementation alternatives, depending on the programming language, framework or specific platform\n",
    "\n",
    "\n"
   ]
  },
  {
   "cell_type": "markdown",
   "id": "fa99f966",
   "metadata": {},
   "source": [
    "<font color=\"8C3061\" >**Catalogue**</font>"
   ]
  },
  {
   "cell_type": "markdown",
   "id": "6c1d165e",
   "metadata": {},
   "source": [
    "There are two ways through which the patterns have been categorized. \n",
    "\n",
    "- One is the scope. Scope simply means whether the pattern applies to classes or objects.\n",
    "- Then the other categorization is based on the purpose. This reflects what a pattern does. And based on this, a pattern can be a creational pattern, a structural pattern or a behavioral pattern.\n",
    "\n",
    "<center>\n",
    "<img src=\"./images/catalogue.png\" width=\"650\"/> \n",
    "</center>"
   ]
  },
  {
   "cell_type": "markdown",
   "id": "0135bdb0",
   "metadata": {},
   "source": [
    "# <font color=\"8C3061\" >**Overview of the Unified Modeling Language (UML) Class Diagram**</font> "
   ]
  },
  {
   "cell_type": "markdown",
   "id": "817f83ba",
   "metadata": {},
   "source": [
    "🌐 Online Tools: 🔗[draw.io](https://app.diagrams.net/)"
   ]
  },
  {
   "cell_type": "markdown",
   "id": "e60127f6",
   "metadata": {},
   "source": [
    "<font color=\"8C3061\" >**Pattern Structure**</font>"
   ]
  },
  {
   "cell_type": "markdown",
   "id": "9942dc0e",
   "metadata": {},
   "source": [
    "> The original book on design patterns uses OMT\n",
    "> It depicts relationships between classes that make up\n",
    "the pattern\n",
    "\n",
    "* However, it was replaced with UML in 1996, therefore,\n",
    "is no longer used.\n",
    "* It is important to understand class notations to\n",
    "understand the structure of the pattern\n"
   ]
  },
  {
   "cell_type": "markdown",
   "id": "0f1e0189",
   "metadata": {},
   "source": [
    "***Class Diagram:***\n",
    "\n",
    "<center>\n",
    "<img src=\"./images/uml_class.png\" width=\"250\"/> \n",
    "</center>"
   ]
  },
  {
   "cell_type": "markdown",
   "id": "484e3c68",
   "metadata": {},
   "source": [
    "***Class Inheritance:*** \n",
    "\n",
    "This arrow is called as a generalization arrow and it points to the class that is the most general of all the classes. It can represent all the classes. And by all, I mean all the child classes. So savings and current are child classes of account or we can say these are derived classes of account. Note that the arrow is hollow, it is not filled.\n",
    "\n",
    "<center>\n",
    "<img src=\"./images/uml_inheritance.png\" width=\"350\"/> \n",
    "</center>"
   ]
  },
  {
   "cell_type": "markdown",
   "id": "4ae51c26",
   "metadata": {},
   "source": [
    "The name of the abstract classes is shown in italics. So shape is an abstract class and even the method is shown with italic and this indicates draw is an abstract method or a pure virtual function. Therefore, it must be implemented by the child classes."
   ]
  },
  {
   "cell_type": "markdown",
   "id": "6f5f64fb",
   "metadata": {},
   "source": [
    "***Composition:***\n",
    "\n",
    "Composition simply means part of relationship. This symbol is towards the class that acts as a container.\n",
    "\n",
    "This relationship, composition relationship means that when the container is destroyed, all its contents are also destroyed. "
   ]
  },
  {
   "cell_type": "markdown",
   "id": "2913cb1d",
   "metadata": {},
   "source": [
    "<center>\n",
    "<img src=\"./images/uml_composition.png\" width=\"350\"/> \n",
    "</center>"
   ]
  },
  {
   "cell_type": "markdown",
   "id": "91b79874",
   "metadata": {},
   "source": [
    "***Aggregation:***\n",
    "\n",
    "But in some cases when the container is destroyed, its contents may not be destroyed. This relationship is called as aggregation and is depicted through this hollow diamond, the diamond is towards the container. "
   ]
  },
  {
   "cell_type": "markdown",
   "id": "dd7a16c6",
   "metadata": {},
   "source": [
    "<center>\n",
    "<img src=\"./images/uml_aggregation.png\" width=\"350\"/> \n",
    "</center>"
   ]
  },
  {
   "cell_type": "markdown",
   "id": "27ce946f",
   "metadata": {},
   "source": [
    "***Association:***\n",
    "\n",
    "Association is another form of relationship between classes and objects. And it is quite similar to aggregation.\n",
    "\n",
    "It simply represents a semantic connection between the classes. This means a class will use features of another class and it will do so by containing a reference of another class. For example, application uses the database.\n",
    "\n",
    "So application is the container and database is the contained object. This does not imply that application owns the database. It simply uses a feature soft database. The relationship is shown with a line and it is often accompanied by phrases such as uses controls, etc."
   ]
  },
  {
   "cell_type": "markdown",
   "id": "78b6bcdf",
   "metadata": {},
   "source": [
    "<center>\n",
    "<img src=\"./images/uml_association.png\" width=\"350\"/> \n",
    "</center>"
   ]
  },
  {
   "cell_type": "markdown",
   "id": "77dc9c63",
   "metadata": {},
   "source": [
    "So here driver drives the car, it does not mean that driver owns the car object. It simply implies that driver uses the features of car. Note that association is the weaker form of relationship as compared to aggregation we will see and understand in subsequent lectures, how these relationships are implemented in code."
   ]
  },
  {
   "cell_type": "markdown",
   "id": "7ecbfceb",
   "metadata": {},
   "source": [
    "# <font color=\"8C3061\" >**S.O.L.I.D. Principles**</font> "
   ]
  },
  {
   "cell_type": "markdown",
   "id": "381ec2b6",
   "metadata": {},
   "source": [
    "Solid is an acronym for five principles shown here. These principles are helpful while designing classes and their relationships. \n",
    "\n",
    "<div class=\"alert alert-block alert-info\">\n",
    "<ul>\n",
    "  <li><b>S</b>ingle Responsibility Principle</li>\n",
    "  <li><b>O</b>pen Closed Principle</li>\n",
    "  <li><b>L</b>iskov Substitution Principle</li>\n",
    "  <li><b>I</b>nterface Segregation Principle</li>\n",
    "  <li><b>D</b>ependency Inversion Principle</li>\n",
    "</ul>\n",
    "</div>\n",
    "\n",
    "\n"
   ]
  },
  {
   "cell_type": "markdown",
   "id": "11a53e43",
   "metadata": {},
   "source": [
    "## <font color=\"8C3061\" >**Single Responsibility Principle**</font>"
   ]
  },
  {
   "cell_type": "markdown",
   "id": "034e834f",
   "metadata": {},
   "source": [
    "> A class should have only one reason to change\n",
    "\n",
    "- Should have only one responsibility\n",
    "- Classes with multiple responsibilities break whenchanged\n",
    "- Put each responsibility in a separate class\n"
   ]
  },
  {
   "cell_type": "markdown",
   "id": "046b53dd",
   "metadata": {},
   "source": [
    "***Before:***  In this example, there's a class called notes. It stores notes which can be simple text. I've just shown the skeleton of the class here. Now there is one problem here. This clause should only manage notes, it should not be responsible for displaying them.\n",
    "\n",
    "```c++\n",
    "class Notes {\n",
    "public:\n",
    "    void Add() {\n",
    "    }\n",
    "    void Remove(){\n",
    "    }   \n",
    "    void Display() {\n",
    "    }\n",
    "};\n",
    "```"
   ]
  },
  {
   "cell_type": "markdown",
   "id": "baecfb89",
   "metadata": {},
   "source": [
    "***After:*** After we apply single responsibility principle, we put the responsibility of displaying the notes in the view class.\n",
    "\n",
    "It accepts the notes pointer and can display the notes. Notes itself does not know how its data is displayed. So this way we can display notes in any way we want.\n",
    "\n",
    "\n",
    "```c++\n",
    "class Notes {\n",
    "public:\n",
    "    void Add() {\n",
    "    }\n",
    "    void Remove(){\n",
    "    } \n",
    "};\n",
    "\n",
    "class View {\n",
    "public:\n",
    "    void Display(Notes *pNotes) {\n",
    "        //impLementation\n",
    "    }\n",
    "};\n",
    "```"
   ]
  },
  {
   "cell_type": "markdown",
   "id": "6a110a6f",
   "metadata": {},
   "source": [
    "## <font color=\"8C3061\" >**Open-Closed Principle**</font>"
   ]
  },
  {
   "cell_type": "markdown",
   "id": "6f5ffac3",
   "metadata": {},
   "source": [
    "> Modules should be open for extension but closed for modification\n",
    "\n",
    "- Modification to existing code leads to bugs and causes the software to break\n",
    "- It should be possible to change behavior of existing code without modification\n",
    "- Be the behavior should be changed by adding new\n",
    "code\n",
    "- Cornerstone of good design\n",
    "- Use design patterns\n"
   ]
  },
  {
   "cell_type": "markdown",
   "id": "85f89128",
   "metadata": {},
   "source": [
    "*Example:*  We want to modify this add method because we want to add a functionality where if a note starts with an exclamation mark, then it should go to the top of the list. So that way the user can easily spot such notes"
   ]
  },
  {
   "cell_type": "markdown",
   "id": "0f2dc5cf",
   "metadata": {},
   "source": [
    "```c++\n",
    "class Notes {\n",
    "public:\n",
    "    void Add() {\n",
    "    }\n",
    "    void Remove(){\n",
    "    }   \n",
    "    void Display() {\n",
    "    }\n",
    "};\n",
    "```"
   ]
  },
  {
   "cell_type": "markdown",
   "id": "8182ab4c",
   "metadata": {},
   "source": [
    "In a naive implementation, we might modify the add function and add the condition here. This condition might check if a note that is added contains the exclamation mark and then we take a decision accordingly.\n",
    "\n",
    "```c++\n",
    "void Add() {\n",
    "    //if (contains('!'){\n",
    "        //...\n",
    "\n",
    "}\n",
    "```\n",
    "\n",
    "<div class=\"alert alert-block alert-danger\">\n",
    "<b>Danger:</b> Now, with this implementation, we have violated the open closed principle because we have modified existing code\n",
    "</div>"
   ]
  },
  {
   "cell_type": "markdown",
   "id": "47c4ea6f",
   "metadata": {},
   "source": [
    "To follow **open closed principle**, we should have implemented add function in such a way that in future, we should be able to change its implementation. And one way of doing this is making the add function virtual. And then when we want to change its behavior, we simply add a new clause and override the function. And in that override, we can decide what to do when a note is added."
   ]
  },
  {
   "cell_type": "markdown",
   "id": "f59ce082",
   "metadata": {},
   "source": [
    "```c++\n",
    "class Notes {\n",
    "public:\n",
    "    virtual void Add() {\n",
    "            }\n",
    "    void Remove(){\n",
    "    }   \n",
    "    void Display() {\n",
    "    }\n",
    "};\n",
    "\n",
    "class TaggedNotes : public Notes {\n",
    "public:\n",
    "    void Add()override {\n",
    "        //if (contains('!'){\n",
    "            //...\n",
    "            }\n",
    "};\n",
    "```"
   ]
  },
  {
   "cell_type": "markdown",
   "id": "1403baf8",
   "metadata": {},
   "source": [
    "## <font color=\"8C3061\" >**Liskov Substitution Principle**</font>\n",
    "\n"
   ]
  },
  {
   "cell_type": "markdown",
   "id": "62628ba3",
   "metadata": {},
   "source": [
    "> Subtypes must be substitutable for their base types\n",
    "\n",
    "- Applies to inheritance relationship\n",
    "- The inheritance relationship should be based on behavior\n",
    "- A subclass must have all the behaviors of its base type & must not remove or change its parent behavior\n",
    "- This allows a subclass to replace its base type in code\n",
    "- New subclasses can be added without modifying existing code\n",
    "\n",
    "**Mathematical Statement:**\n",
    "Let $\\Phi(x)$ be a property provable about objects $x$ of type $T$. Then $\\Phi(y)$ should be true for objects $y$ of type $S$ where $S$ is a subtype of $T$."
   ]
  },
  {
   "cell_type": "markdown",
   "id": "6d284047",
   "metadata": {},
   "source": [
    "**Example:**"
   ]
  },
  {
   "cell_type": "markdown",
   "id": "328c6d65",
   "metadata": {},
   "source": [
    "\n",
    "```c++\n",
    "class Operation {\n",
    "public:\n",
    "    virtual int ResultOf(int *begin, int *end) {\n",
    "        //impLementation\n",
    "    }\n",
    "};\n",
    "\n",
    "void Operate(Operation *op) {\n",
    "    using namespace std ;\n",
    "    int arr[5]{} ;\n",
    "    auto result\n",
    "        = op-> ResultOf(begin(arr), end(arr)) ;\n",
    "    std::cout << result ;\n",
    "};\n",
    "\n",
    "```"
   ]
  },
  {
   "cell_type": "markdown",
   "id": "511fc194",
   "metadata": {},
   "source": [
    "In this case, we perform an operation on the elements of this range. But the result should be a bollean. Bollean is also an integral type and we can easily return it as a result from this function. However, the calling code will not be able to know whether it returns an integer or a boolean."
   ]
  },
  {
   "cell_type": "markdown",
   "id": "867e07c3",
   "metadata": {},
   "source": [
    "```c++\n",
    "class BoolOperation:public Operation {\n",
    "public:\n",
    "    //return bool\n",
    "    int ResultOf(int *begin, int *end)override{\n",
    "        //impLementation\n",
    "    }\n",
    "};\n",
    "```"
   ]
  },
  {
   "cell_type": "markdown",
   "id": "9179158a",
   "metadata": {},
   "source": [
    "***Naive Implementation***"
   ]
  },
  {
   "cell_type": "markdown",
   "id": "db5a4e1f",
   "metadata": {},
   "source": [
    "```c++\n",
    "void Operate(Operation *op) {\n",
    "    using namespace std;\n",
    "    int arr[5]{} ;\n",
    "    auto result = op->ResultOf(begin(arr), end(arr));\n",
    "    if(typeid(*op)==typeid(BoolOperation)) {\n",
    "        //assume bool\n",
    "    }\n",
    "    else{\n",
    "        //assume int\n",
    "    }\n",
    "};\n",
    "```\n"
   ]
  },
  {
   "cell_type": "markdown",
   "id": "b46d3e0d",
   "metadata": {},
   "source": [
    "\n",
    "<div class=\"alert alert-block alert-danger\">\n",
    "<b>Danger:</b> Obviously, with addition of boot operation, we had to modify existing code. So we violated open closed principle. And this also violates Liskov substitution principle because the child class operation cannot act as a substitute for operation. It is different from its base class.\n",
    "</div>"
   ]
  },
  {
   "cell_type": "markdown",
   "id": "05815776",
   "metadata": {},
   "source": [
    "***Pattern Design Solution:***"
   ]
  },
  {
   "cell_type": "markdown",
   "id": "3805467e",
   "metadata": {},
   "source": [
    "We can add a base class interface called I operation and use a variant as the return type."
   ]
  },
  {
   "cell_type": "markdown",
   "id": "20fc88e1",
   "metadata": {},
   "source": [
    "<center>\n",
    "<img src=\"./images/uml_Liskov_principle.png\" width=\"1050\"/> \n",
    "</center>"
   ]
  },
  {
   "cell_type": "markdown",
   "id": "46a6edc6",
   "metadata": {},
   "source": [
    "*ReturnType* is a type alias for *std::variant<int, bool>*. This means any method returning ReturnType can return either an int or a bool.\n",
    "\n",
    "*IOperation* is an interface (abstract base class):\n",
    "\n",
    "- It defines a pure virtual function ResultOf(int *begin, int *end), meaning any derived class must implement it.\n",
    "\n",
    "- It also has a virtual destructor (best practice in polymorphic base classes).\n",
    "\n",
    "🧩 Derived Class 1: Operation. Inherits from IOperation. Implements ResultOf. Presumably returns an int as ReturnType (e.g., a sum, max, etc.). Represents operations whose output is an integer.\n",
    "\n",
    "🧩 Derived Class 2: BoolOperation. Also inherits from IOperation. Overrides ResultOf. Likely returns a bool in the std::variant, e.g., a check like “is sorted?”, “has duplicates?”, etc.\n",
    "\n"
   ]
  },
  {
   "cell_type": "markdown",
   "id": "8e893aa1",
   "metadata": {},
   "source": [
    "We will inherit operation and bool operation from this interface in operation. The ResultOf will return an integer through the variant and result of will return a boolean through this variant note that this variant can represent both integers and booths. Now how will the client code use these classes\n",
    "\n",
    "```c++\n",
    "void Operate(IOperation *op) {\n",
    "    using namespace std ;\n",
    "\n",
    "    int arr[5]{} ;\n",
    "    auto result = op->ResultOf(begin(arr), end(arr)) ;\n",
    "    //Use visitation for type safe access\n",
    "}\n",
    "```\n",
    "\n"
   ]
  },
  {
   "cell_type": "markdown",
   "id": "9fc39b0c",
   "metadata": {},
   "source": [
    "```c++\n",
    "IOperation* op1 = new Operation();\n",
    "IOperation* op2 = new BoolOperation();\n",
    "\n",
    "ReturnType res1 = op1->ResultOf(arr, arr + n);\n",
    "ReturnType res2 = op2->ResultOf(arr, arr + n);\n",
    "```\n",
    "\n",
    "You can use `std::get<int>(res1)` or `std::get<bool>(res2)` depending on which class you know you're using, or handle both using `std::visit`."
   ]
  },
  {
   "cell_type": "markdown",
   "id": "0870cd9d",
   "metadata": {},
   "source": [
    "## <font color=\"8C3061\" >**Interface Segregation Principle**</font>\n",
    "\n"
   ]
  },
  {
   "cell_type": "markdown",
   "id": "cf75d16e",
   "metadata": {},
   "source": [
    "> Clients should not be forced to depend on methods they do not use\n",
    "\n",
    "- An interface with too many methods will be complex\n",
    "to use (called fat interface)\n",
    "- Some clients may not use all the methods\n",
    "    - but will be forced to depend on them\n",
    "- Separate the interface and put methods based on the client usage\n"
   ]
  },
  {
   "cell_type": "markdown",
   "id": "766189b7",
   "metadata": {},
   "source": [
    "***Example:*** This is an example of an interface called IFile and it provides two methods, read and write."
   ]
  },
  {
   "cell_type": "markdown",
   "id": "7668c2ad",
   "metadata": {},
   "source": [
    "```c++\n",
    "struct IFile {\n",
    "    virtual void Read() = 0;\n",
    "    virtual void Write() = 0;\n",
    "    virtual ~IFile() = default;\n",
    "};\n",
    "\n",
    "```"
   ]
  },
  {
   "cell_type": "markdown",
   "id": "7149e4b9",
   "metadata": {},
   "source": [
    "<div class=\"alert alert-block alert-danger\">\n",
    "<b>Danger:</b> Now, not all clients may want to use both the functionalities at once, most of them would probably want to read or write.\n",
    "\n",
    "So this interface is a fat interface, even though one of the clients may only want to read, it will be forced to depend on the right method as well.\n",
    "</div>"
   ]
  },
  {
   "cell_type": "markdown",
   "id": "abee4a43",
   "metadata": {},
   "source": [
    "***Pattern Design Solution:***\n",
    "\n",
    "So we will apply the interface segregation principle and segregate the interfaces like this. I read will provide the behavior for read functionality and I write will provide the behavior for write functionality.\n",
    "\n",
    "Now the clients are not forced to depend on methods. They do not use."
   ]
  },
  {
   "cell_type": "markdown",
   "id": "fb7d0b7b",
   "metadata": {},
   "source": [
    "```c++\n",
    "struct IRead {\n",
    "    virtual void Read() = 0;\n",
    "    virtual ~IRead()=default ;\n",
    "};\n",
    "\n",
    "struct IWrite {\n",
    "    virtual void Write() = 0;\n",
    "    virtual ~IWrite()=default ;\n",
    "};\n",
    "```"
   ]
  },
  {
   "cell_type": "markdown",
   "id": "0d565bf5",
   "metadata": {},
   "source": [
    "## <font color=\"8C3061\" >**Dependency Inversion Principle**</font>\n",
    "\n",
    "\n"
   ]
  },
  {
   "cell_type": "markdown",
   "id": "6bad10d0",
   "metadata": {},
   "source": [
    "> Abstractions should not depend on details. Details\n",
    "should depend on abstractions\n"
   ]
  },
  {
   "cell_type": "markdown",
   "id": "4abaf467",
   "metadata": {},
   "source": [
    "- Abstraction means an interface and details mean classes\n",
    "- Using a concrete class directly creates a dependency\n",
    "- Software becomes difficult to modify\n",
    "- Invert the dependency by using an interface rather a concrete class\n",
    "\n",
    "So instead of making your code dependent on the concrete class, let the concrete classes depend on your code. So this way the dependency is inverted. That is why this is called dependency inversion principle."
   ]
  },
  {
   "cell_type": "markdown",
   "id": "8f0825ef",
   "metadata": {},
   "source": [
    "```c++\n",
    "class ImageReader {\n",
    "public: \n",
    "    virtual void Decode()=0;\n",
    "    virtual ~ImageReader()=default;\n",
    "};\n",
    "class BitmapReader : public ImageReader {\n",
    "public:\n",
    "    void Decode(){}\n",
    "};\n",
    "```"
   ]
  },
  {
   "cell_type": "markdown",
   "id": "a895902e",
   "metadata": {},
   "source": [
    "*Structure:* <br>\n",
    "- The image data is displayed through this class called image view. \n",
    "- And this image view uses the bitmap reader and displays it on the screen. \n",
    "- But in this case, it gets tightly coupled with the bitmap reader class in future in this hierarchy.  If more image readers are added, then you will not be able to use them easily. \n"
   ]
  },
  {
   "cell_type": "markdown",
   "id": "c41064f6",
   "metadata": {},
   "source": [
    "```c++\n",
    "class ImageViewer {\n",
    "    BitmapReader *m_Reader{} ;\n",
    "public:\n",
    "    void Display(){}\n",
    "};\n",
    "```\n"
   ]
  },
  {
   "cell_type": "markdown",
   "id": "5104d985",
   "metadata": {},
   "source": [
    "\n",
    "<div class=\"alert alert-block alert-danger\">\n",
    "<b>Danger:</b> In ImageViewer, you will have to modify this clause to add support for more readers. So this violates dependency inversion principle and also the open closed principle because the BitmapReader is dependent on the concrete class and not the abstraction of the BitmapReader. \n",
    "</div>"
   ]
  },
  {
   "cell_type": "markdown",
   "id": "9a600ec0",
   "metadata": {},
   "source": [
    "The abstraction of the bitmap reader is ImageReader. Bitmap reader is a specific abstraction. So instead of depending on a specific abstraction, you depend on a general abstraction that is the ImageReader. So let's invert the dependency."
   ]
  },
  {
   "cell_type": "markdown",
   "id": "69508bc9",
   "metadata": {},
   "source": [
    "```C++\n",
    "class ImageViewer {\n",
    "    ImageReader *m_Reader{} ;\n",
    "public:\n",
    "    void Display(){}\n",
    "};\n",
    "```\n"
   ]
  },
  {
   "cell_type": "markdown",
   "id": "972f2639",
   "metadata": {},
   "source": [
    "So for image viewer, image reader is a dependency but you need an instance of one of the image readers that can be used by image view. So you need to inject that into image view. Now there are different ways of doing that. And this whole process is called as dependency Injection. "
   ]
  },
  {
   "cell_type": "markdown",
   "id": "a801a014",
   "metadata": {},
   "source": [
    "\n",
    "| PATTERN | DESCRIPTION |\n",
    "|:---:| :---|\n",
    "| Singleton         | Ensure only one instance |\n",
    "| Factory Method    | Create instance without depending on its  concrete type   |\n",
    "| Object Pool       | Reuse existing instances  |\n",
    "| Abstract Factory  | Create instances from a specific family   |\n",
    "| Prototype         | Clone existing objects from a prototype   |\n",
    "| Builder           | Construct a complex object step by step   |"
   ]
  },
  {
   "cell_type": "markdown",
   "id": "349d13db",
   "metadata": {},
   "source": []
  }
 ],
 "metadata": {
  "language_info": {
   "name": "python"
  }
 },
 "nbformat": 4,
 "nbformat_minor": 5
}
