{
 "cells": [
  {
   "cell_type": "markdown",
   "id": "fd71d3cc",
   "metadata": {},
   "source": [
    "<hr>\n",
    "<div style=\"background-color: lightgray; padding: 20px; color: black;\">\n",
    "<div>\n",
    "<img src=\"https://th.bing.com/th/id/R.3cd1c8dc996c5616cf6e65e20b6bf586?rik=09aaLyk4hfbBiQ&riu=http%3a%2f%2fcidics.uanl.mx%2fwp-content%2fuploads%2f2016%2f09%2fcimat.png&ehk=%2b0brgMUkA2BND22ixwLZheQrrOoYLO3o5cMRqsBOrlY%3d&risl=&pid=ImgRaw&r=0\" style=\"float: right; margin-right: 30px;\" width=\"200\"/> \n",
    "<font size=\"5.5\" color=\"8C3061\"><b>Design Pattern Singleton</b></font> <br>\n",
    "<font size=\"5.5\" color=\"8C3061\"><b>Creational Design Patterns in Modern C++</b></font> \n",
    "</div>\n",
    "<div style=\"text-align: left\">  <br>\n",
    "Edison David Serrano Cárdenas<br>\n",
    "MSc en Matemáticas Aplicadas; CIMAT - Sede Guanajuato <br>\n",
    "</div>\n",
    "\n",
    "</div>\n",
    "<hr>"
   ]
  },
  {
   "cell_type": "markdown",
   "id": "7eabf65a",
   "metadata": {},
   "source": [
    "# <font color=\"8C3061\" >**Introduction**</font> "
   ]
  },
  {
   "cell_type": "markdown",
   "id": "ffa31279",
   "metadata": {},
   "source": [
    "This pattern is used when you want a class to have only one instance. \n",
    "\n",
    "Now what kind of classes will require only one instance? \n",
    "\n",
    "You may have a component that manages some underlying resource and that resource could be maybe a print spooler, maybe a database connection or even an application configuration.\n",
    "\n",
    "\n",
    "\n",
    "<div class=\"alert alert-block alert-info\">\n",
    "<b>Note:</b> Now, if you create a class that manages the underlying resource, then the class should have only one instance because if there are multiple instances, then each instance will store its own state of the underlying resource. \n",
    "\n",
    "And when one instance modifies the resource, the other instance will not know about it. So this way the state of the underlying resource may get corrupted or it may fail to provide the service. So that's why this class should have only one instance. </div>"
   ]
  },
  {
   "cell_type": "markdown",
   "id": "f38eb08b",
   "metadata": {},
   "source": [
    "> Ensure a class only has one instance, and provide a global point of access to it.\n",
    "\n",
    "So you might feel that this makes the Singleton instance behave like a global variable. And yes, you're right, it does behave like a global variable."
   ]
  },
  {
   "cell_type": "markdown",
   "id": "dd37a1ed",
   "metadata": {},
   "source": [
    "<font color=\"8C3061\" >**Implementation**</font> "
   ]
  },
  {
   "cell_type": "markdown",
   "id": "2cb4f8d5",
   "metadata": {},
   "source": [
    "\n",
    "- The class is made responsible for its own instance.\n",
    "- It intercepts the call for construction and returns a single instance.\n",
    "- Same instance is returned every time.\n",
    "- Therefore, direct construction of object is disabled.\n",
    "- The class creates its own instance which is provided to the clients.\n"
   ]
  },
  {
   "cell_type": "markdown",
   "id": "11f01a4c",
   "metadata": {},
   "source": [
    "<font color=\"8C3061\" >**OMD Diagram:**</font> "
   ]
  },
  {
   "cell_type": "markdown",
   "id": "bb544a60",
   "metadata": {},
   "source": [
    "\n",
    "<center>\n",
    "<img src=\"./images/uml_singleton.png\" width=\"450\"/> \n",
    "</center>"
   ]
  },
  {
   "cell_type": "markdown",
   "id": "1daf875d",
   "metadata": {},
   "source": []
  }
 ],
 "metadata": {
  "language_info": {
   "name": "python"
  }
 },
 "nbformat": 4,
 "nbformat_minor": 5
}
