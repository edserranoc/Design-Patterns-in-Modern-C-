{
 "cells": [
  {
   "cell_type": "markdown",
   "id": "fd71d3cc",
   "metadata": {},
   "source": [
    "<hr>\n",
    "<div style=\"background-color: lightgray; padding: 20px; color: black;\">\n",
    "<div>\n",
    "<img src=\"https://th.bing.com/th/id/R.3cd1c8dc996c5616cf6e65e20b6bf586?rik=09aaLyk4hfbBiQ&riu=http%3a%2f%2fcidics.uanl.mx%2fwp-content%2fuploads%2f2016%2f09%2fcimat.png&ehk=%2b0brgMUkA2BND22ixwLZheQrrOoYLO3o5cMRqsBOrlY%3d&risl=&pid=ImgRaw&r=0\" style=\"float: right; margin-right: 30px;\" width=\"200\"/> \n",
    "<font size=\"5.5\" color=\"8C3061\"><b>Design Pattern Singleton</b></font> <br>\n",
    "<font size=\"5.5\" color=\"8C3061\"><b>Creational Design Patterns in Modern C++</b></font> \n",
    "</div>\n",
    "<div style=\"text-align: left\">  <br>\n",
    "Edison David Serrano Cárdenas<br>\n",
    "MSc en Matemáticas Aplicadas; CIMAT - Sede Guanajuato <br>\n",
    "</div>\n",
    "\n",
    "</div>\n",
    "<hr>"
   ]
  },
  {
   "cell_type": "markdown",
   "id": "7eabf65a",
   "metadata": {},
   "source": [
    "# <font color=\"8C3061\" >**Introduction**</font> "
   ]
  },
  {
   "cell_type": "markdown",
   "id": "ffa31279",
   "metadata": {},
   "source": [
    "This pattern is used when you want a class to have only one instance. \n",
    "\n",
    "Now what kind of classes will require only one instance? \n",
    "\n",
    "You may have a component that manages some underlying resource and that resource could be maybe a print spooler, maybe a database connection or even an application configuration.\n",
    "\n",
    "\n",
    "\n",
    "<div class=\"alert alert-block alert-info\">\n",
    "<b>Note:</b> Now, if you create a class that manages the underlying resource, then the class should have only one instance because if there are multiple instances, then each instance will store its own state of the underlying resource. \n",
    "\n",
    "And when one instance modifies the resource, the other instance will not know about it. So this way the state of the underlying resource may get corrupted or it may fail to provide the service. So that's why this class should have only one instance. </div>"
   ]
  },
  {
   "cell_type": "markdown",
   "id": "f38eb08b",
   "metadata": {},
   "source": [
    "> Ensure a class only has one instance, and provide a global point of access to it.\n",
    "\n",
    "So you might feel that this makes the Singleton instance behave like a global variable. And yes, you're right, it does behave like a global variable."
   ]
  },
  {
   "cell_type": "markdown",
   "id": "dd37a1ed",
   "metadata": {},
   "source": [
    "<font color=\"8C3061\" >**Implementation**</font> "
   ]
  },
  {
   "cell_type": "markdown",
   "id": "2cb4f8d5",
   "metadata": {},
   "source": [
    "\n",
    "- The class is made responsible for its own instance.\n",
    "- It intercepts the call for construction and returns a single instance.\n",
    "- Same instance is returned every time.\n",
    "- Therefore, direct construction of object is disabled.\n",
    "- The class creates its own instance which is provided to the clients.\n"
   ]
  },
  {
   "cell_type": "markdown",
   "id": "11f01a4c",
   "metadata": {},
   "source": [
    "<font color=\"8C3061\" >**OMD Diagram:**</font> "
   ]
  },
  {
   "cell_type": "markdown",
   "id": "bb544a60",
   "metadata": {},
   "source": [
    "\n",
    "<center>\n",
    "<img src=\"./images/uml_singleton.png\" width=\"450\"/> \n",
    "</center>"
   ]
  },
  {
   "cell_type": "markdown",
   "id": "d09bf8c1",
   "metadata": {},
   "source": [
    "<font color=\"8C3061\" >**Logger Implementation**</font> "
   ]
  },
  {
   "cell_type": "markdown",
   "id": "1ae5fb39",
   "metadata": {},
   "source": [
    "1. Add a class called Singleton.\n",
    "2. The first thing we need to do is disable the construction and we can do that very easily by making the constructor private.\n",
    "   - if your constructor body is empty, then use the default specifier on this constructor so that the Compiler automatically synthesizes the default implementation of the constructor. This implementation is going to be much faster than the user defined default constructor.   \n",
    "3. Create the static instance of this class"
   ]
  },
  {
   "cell_type": "markdown",
   "id": "9dd6cfd0",
   "metadata": {},
   "source": [
    "***Example:***\n",
    "\n",
    "We will create a logger clause that will be used to log the different states of the application as it executes.\n",
    "\n",
    "If the application crashes, we can examine the logs and we can find out which part of the application caused the crash. "
   ]
  },
  {
   "cell_type": "markdown",
   "id": "9b9bb9d4",
   "metadata": {},
   "source": [
    "`#pragma once` reemplace \n",
    "```c++\n",
    "#ifndef _MYHEADER_H_\n",
    "#define _MYHEADER_H_\n",
    "...\n",
    "#endif\n",
    "```\n",
    "\n",
    "The #pragma once directive has a very simple concept. The header file containing this directive is included only once even if the programmer includes it multiple times during a compilation. This directive works similar to the #include guard idiom. Use of #pragma once saves the program from multiple inclusion optimization."
   ]
  },
  {
   "cell_type": "markdown",
   "id": "eee1c958",
   "metadata": {},
   "source": [
    "***Logger Class:***"
   ]
  },
  {
   "cell_type": "markdown",
   "id": "2f8450a8",
   "metadata": {},
   "source": [
    "File: `Logger.h`\n",
    "```c++\n",
    "class Logger{\n",
    "    FILE *m_pStream;\n",
    "    std::string m_Tag;\n",
    "public:\n",
    "    Logger() ;\n",
    "    ~Logger() ;\n",
    "    void WriteLog(const char *pMessage) ;\n",
    "    void SetTag(const char *pTag) ;\n",
    "};\n",
    "```"
   ]
  },
  {
   "cell_type": "markdown",
   "id": "2023e5b5",
   "metadata": {},
   "source": [
    "File: `main.cpp`\n",
    "\n",
    "```c++\n",
    "# include \"Logger.h\"\n",
    "void OpenConection(){\n",
    "    Logger lg;\n",
    "    lg.WriteLog(\"Attempting to open a connection\"); \n",
    "}\n",
    "\n",
    "int main(){\n",
    "    Logger lg;\n",
    "    lg.SetTag(\"192.168.1.101\");\n",
    "    lg.WriteLog(\"Application has started\");\n",
    "    OpenConection();\n",
    "    lg.WriteLog(\"Application is shutting down\");\n",
    "    return 0;\n",
    "}\n",
    "```"
   ]
  },
  {
   "cell_type": "markdown",
   "id": "7427fadf",
   "metadata": {},
   "source": [
    "Output `applog.txt`\n",
    "```txt\n",
    "[] Attempting to open a connection\n",
    "\u0000\u0000\u0000\u0000\u0000[192.168.1.101] Application is shutting down\n",
    "\n",
    "```\n",
    "\n",
    "The problem is due to the fact that two instances are created and the constructor of each instance attempts to open the file in write mode since the stream is already open in write mode. When another instance tries to open it, it may either fail or succeed, we don't know. So the behavior is undefined.\n",
    "\n",
    "So that's why we need to ensure that there is only one instance of the logger. Now, you may argue we can create a global instance of the logger and have the use it everywhere that may work. But it will not prevent the user from creating multiple instances of the logger. So the first thing we need to do is to prevent the user from creating instances of this class."
   ]
  },
  {
   "cell_type": "markdown",
   "id": "bef2f10e",
   "metadata": {},
   "source": [
    "<font color=\"8C3061\" >**Logger Implementation II -Preventing instantiation & copy**</font> "
   ]
  },
  {
   "cell_type": "markdown",
   "id": "2180980a",
   "metadata": {},
   "source": [
    "In the previous lecture, we saw how multiple instances of the logger can corrupt the log file. So that's why we need to prevent the user from creating instance of the logger class."
   ]
  },
  {
   "cell_type": "markdown",
   "id": "0b1b20aa",
   "metadata": {},
   "source": [
    "**We have to do is just make the constructor private.** <br>\n",
    "Now, after this, the user can no longer create the instances. So the *logger itself has to create the instance and provide that to the clients.*\n",
    "\n",
    "*So one way is to create a static instance of the logger, this instance will be given to the clients through this static method.*"
   ]
  },
  {
   "cell_type": "markdown",
   "id": "f993da9a",
   "metadata": {},
   "source": [
    "File:`Logger.h`\n",
    "\n",
    "```c++\n",
    "class Logger{\n",
    "    FILE *m_pStream;\n",
    "    std::string m_Tag;\n",
    "    Logger() ;\n",
    "public:\n",
    "    ~Logger() ;\n",
    "    void WriteLog(const char *pMessage) ;\n",
    "    void SetTag(const char *pTag) ;\n",
    "};\n",
    "```"
   ]
  },
  {
   "cell_type": "markdown",
   "id": "99506770",
   "metadata": {},
   "source": [
    "File:`main.h`\n",
    "\n",
    "```c++\n",
    "# include \"Logger.h\"\n",
    "\n",
    "void OpenConnection()\n",
    "{\n",
    "    Logger &lg = Logger::Instance();\n",
    "    lg.WriteLog(\"Attempting to open a connection\");\n",
    "}\n",
    "\n",
    "int main()\n",
    "{\n",
    "    Logger &lg = Logger::Instance();\n",
    "    lg.SetTag(\"192.168.1.101\");\n",
    "    lg.WriteLog(\"Application has started\");\n",
    "    OpenConnection();\n",
    "    lg.WriteLog(\"Application is shutting down\");\n",
    "    return 0;\n",
    "}\n",
    "```"
   ]
  },
  {
   "cell_type": "markdown",
   "id": "f3442a81",
   "metadata": {},
   "source": [
    "What if the user does not use a reference while acquiring the instance from the logger class?\n",
    "\n",
    "```c++\n",
    "Logger lg = Logger::Instance();\n",
    "```"
   ]
  },
  {
   "cell_type": "markdown",
   "id": "01096108",
   "metadata": {},
   "source": [
    "```c++\n",
    "class Logger{\n",
    "    FILE *m_pStream;\n",
    "    std::string m_Tag;\n",
    "    Logger();\n",
    ">   static Logger m_Instance;\n",
    "public:\n",
    ">   Logger(const Logger &) = delete; // Prevent copying\n",
    ">   Logger & operator=(const Logger &) = delete; // Prevent assignment\n",
    ">   //Logger(Logger &&) = delete; // Prevent move construction\n",
    ">   //Logger & operator=(Logger &&) = delete; // Prevent move assignment\n",
    ">   static Logger & Instance();\n",
    "    ~Logger() ;\n",
    "    void WriteLog(const char *pMessage) ;\n",
    "    void SetTag(const char *pTag) ;\n",
    "};\n",
    "```"
   ]
  },
  {
   "cell_type": "markdown",
   "id": "e9105afd",
   "metadata": {},
   "source": [
    "Prevent copying, assignment, move construction and move assignment"
   ]
  },
  {
   "cell_type": "markdown",
   "id": "b0736a54",
   "metadata": {},
   "source": [
    "<font color=\"8C3061\" >**Logger Implementation III - Lazy Instantiation**</font> \n"
   ]
  },
  {
   "cell_type": "markdown",
   "id": "542efd83",
   "metadata": {},
   "source": [
    "**The class itself is responsible for creating a singular instance.** <br>\n",
    "Now in this particular implementation, this instance is created as soon as the program is loaded. This means the instance is created even before main gets invoked. That is why this type of instance is called as *eager instance*. "
   ]
  },
  {
   "cell_type": "markdown",
   "id": "a4b9faf4",
   "metadata": {},
   "source": [
    "File: `Logger.h`\n",
    "```c++\n",
    "static Logger *m_pInstance;    // Static instance pointer\n",
    "```"
   ]
  },
  {
   "cell_type": "markdown",
   "id": "695a3bf6",
   "metadata": {},
   "source": [
    "File: `Logger.cpp`\n",
    "\n",
    "```c++\n",
    "Logger *Logger::m_pInstance;    // Static instance pointer\n",
    "...\n",
    "Logger & Logger::Instance(){ \n",
    "    if (m_pInstance == nullptr)     // Lazy initialization\n",
    "        m_pInstance = new Logger(); // Create the instance\n",
    "    return *m_pInstance;       // Return the instance\n",
    "}\n",
    "\n",
    "```"
   ]
  }
 ],
 "metadata": {
  "language_info": {
   "name": "python"
  }
 },
 "nbformat": 4,
 "nbformat_minor": 5
}
